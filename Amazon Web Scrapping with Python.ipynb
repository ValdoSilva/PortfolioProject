{
 "cells": [
  {
   "cell_type": "markdown",
   "metadata": {},
   "source": [
    "Amazon Web Scrapping Using Python"
   ]
  },
  {
   "cell_type": "code",
   "execution_count": 16,
   "metadata": {},
   "outputs": [],
   "source": [
    "# import libraries \n",
    "from bs4 import BeautifulSoup\n",
    "import requests\n",
    "import smtplib\n",
    "import time\n",
    "import datetime"
   ]
  },
  {
   "cell_type": "code",
   "execution_count": 17,
   "metadata": {},
   "outputs": [
    {
     "name": "stdout",
     "output_type": "stream",
     "text": [
      "\n",
      "                   Funny Got Data MIS Data Systems Business Analyst Sweatshirt\n",
      "                  \n",
      "\n",
      "                  £31.99\n",
      "                 \n"
     ]
    }
   ],
   "source": [
    "#connect to website \n",
    "\n",
    "URL = 'https://www.amazon.co.uk/Got-Data-MIS-Business-Analyst/dp/B09TFTNYJ7'\n",
    "header = {\"User-Agent\": \"Mozilla/5.0 (Macintosh; Intel Mac OS X 10_15_7) AppleWebKit/537.36 (KHTML, like Gecko) Chrome/114.0.0.0 Safari/537.36\"}\n",
    "\n",
    "page = requests.get(URL, headers=header)\n",
    "\n",
    "soup1 = BeautifulSoup(page.content, 'html.parser') #all the html doc displayed\n",
    "\n",
    "soup2 = BeautifulSoup(soup1.prettify(), 'html.parser') #better version of html doc\n",
    "\n",
    "title = soup2.find(id='productTitle').get_text() #find product with id \n",
    "price = soup2.find('span',class_='a-offscreen').get_text() #find product with span and class\n",
    "\n",
    "\n",
    "print(title)\n",
    "print(price)\n",
    "\n"
   ]
  },
  {
   "cell_type": "code",
   "execution_count": 18,
   "metadata": {},
   "outputs": [
    {
     "name": "stdout",
     "output_type": "stream",
     "text": [
      "Funny Got Data MIS Data Systems Business Analyst Sweatshirt\n",
      "31.99\n"
     ]
    }
   ],
   "source": [
    "price = price.strip()[1:]\n",
    "title = title.strip()\n",
    "print(title)\n",
    "print(price)"
   ]
  },
  {
   "cell_type": "code",
   "execution_count": 19,
   "metadata": {},
   "outputs": [],
   "source": [
    "#time stamp to know that when the data is collected \n",
    "today = datetime.date.today()"
   ]
  },
  {
   "cell_type": "code",
   "execution_count": 20,
   "metadata": {},
   "outputs": [],
   "source": [
    "#create csv data and append more data into this CSV file for automation \n",
    "import csv\n",
    "\n",
    "header =['Title','Price', 'Date']\n",
    "data = [title,price, today]\n",
    "\n",
    "with open('AmazonWebScrapping.csv', 'w', newline='', encoding='UTF8') as F:  #write the data into AmazonWebScrapping.csv\n",
    "    writer= csv.writer(F)\n",
    "    writer.writerow(header)\n",
    "    writer.writerow(data)\n"
   ]
  },
  {
   "cell_type": "code",
   "execution_count": 24,
   "metadata": {},
   "outputs": [
    {
     "name": "stdout",
     "output_type": "stream",
     "text": [
      "                                               Title  Price        Date\n",
      "0  Funny Got Data MIS Data Systems Business Analy...  31.99  2023-07-26\n",
      "1  Funny Got Data MIS Data Systems Business Analy...  31.99  2023-07-26\n"
     ]
    }
   ],
   "source": [
    "import pandas as pd\n",
    "df = pd.read_csv(r'/Users/valdosilva/Desktop/Data Analyst Project/Portfolio Project/PortfolioProjects/AmazonWebScrapping.csv')\n",
    "print(df)"
   ]
  },
  {
   "cell_type": "code",
   "execution_count": 23,
   "metadata": {},
   "outputs": [],
   "source": [
    "#appending the data into the df \n",
    "with open('AmazonWebScrapping.csv', 'a+', newline='', encoding='UTF8') as F: #append the data \n",
    "    writer= csv.writer(F)\n",
    "    writer.writerow(data)\n"
   ]
  },
  {
   "cell_type": "code",
   "execution_count": 25,
   "metadata": {},
   "outputs": [],
   "source": [
    "#auto append the data \n",
    "def check_price():\n",
    "    URL = 'https://www.amazon.co.uk/Got-Data-MIS-Business-Analyst/dp/B09TFTNYJ7'\n",
    "    header = {\"User-Agent\": \"Mozilla/5.0 (Macintosh; Intel Mac OS X 10_15_7) AppleWebKit/537.36 (KHTML, like Gecko) Chrome/114.0.0.0 Safari/537.36\"}\n",
    "\n",
    "    page = requests.get(URL, headers=header)\n",
    "\n",
    "    soup1 = BeautifulSoup(page.content, 'html.parser') #all the html doc displayed\n",
    "\n",
    "    soup2 = BeautifulSoup(soup1.prettify(), 'html.parser') #better version of html doc\n",
    "\n",
    "    title = soup2.find(id='productTitle').get_text() #find product with id \n",
    "    price = soup2.find('span',class_='a-offscreen').get_text() #find product with span and class\n",
    "\n",
    "    price = price.strip()[1:]\n",
    "    title = title.strip()\n",
    "    #time stamp to know that when the data is collected \n",
    "    today = datetime.date.today()\n",
    "\n",
    "\n",
    "    import csv\n",
    "\n",
    "    header =['Title','Price', 'Date']\n",
    "    data = [title,price, today]\n",
    "\n",
    "    with open('AmazonWebScrapping.csv', 'a+', newline='', encoding='UTF8') as F:  #write the data into AmazonWebScrapping.csv\n",
    "        writer= csv.writer(F)\n",
    "        writer.writerow(data)\n",
    "    "
   ]
  },
  {
   "cell_type": "code",
   "execution_count": 30,
   "metadata": {},
   "outputs": [],
   "source": [
    "#set a timer so that the data collect itself\n",
    "while (True):\n",
    "    check_price()\n",
    "    time.sleep(86400)  #everyday this will triger the proces within the function (checking the price on amazon)\n",
    "    \n",
    "    if (price < 15):\n",
    "        send_mail()\n",
    "\n"
   ]
  },
  {
   "cell_type": "code",
   "execution_count": 29,
   "metadata": {},
   "outputs": [
    {
     "name": "stdout",
     "output_type": "stream",
     "text": [
      "                                               Title  Price        Date\n",
      "0  Funny Got Data MIS Data Systems Business Analy...  31.99  2023-07-26\n",
      "1  Funny Got Data MIS Data Systems Business Analy...  31.99  2023-07-26\n",
      "2  Funny Got Data MIS Data Systems Business Analy...  31.99  2023-07-26\n",
      "3  Funny Got Data MIS Data Systems Business Analy...  31.99  2023-07-26\n",
      "4  Funny Got Data MIS Data Systems Business Analy...  31.99  2023-07-26\n",
      "5  Funny Got Data MIS Data Systems Business Analy...  31.99  2023-07-26\n",
      "6  Funny Got Data MIS Data Systems Business Analy...  31.99  2023-07-26\n",
      "7  Funny Got Data MIS Data Systems Business Analy...  31.99  2023-07-26\n",
      "8  Funny Got Data MIS Data Systems Business Analy...  31.99  2023-07-26\n"
     ]
    }
   ],
   "source": [
    "df = pd.read_csv(r'/Users/valdosilva/Desktop/Data Analyst Project/Portfolio Project/PortfolioProjects/AmazonWebScrapping.csv')\n",
    "print(df)"
   ]
  },
  {
   "cell_type": "code",
   "execution_count": null,
   "metadata": {},
   "outputs": [],
   "source": [
    "# If you want to try sending yourself an email (just for fun) when a price hits below a certain level you can try it\n",
    "# out with this script\n",
    "\n",
    "def send_mail():\n",
    "    server = smtplib.SMTP_SSL('smtp.gmail.com',465)\n",
    "    server.ehlo()\n",
    "    #server.starttls()\n",
    "    server.ehlo()\n",
    "    server.login('osvaldosilva.silva6@gmail.com','Anna1501')\n",
    "    \n",
    "    subject = \"The Shirt you want is below $15! Now is your chance to buy!\"\n",
    "    body = \"Valdo, This is the moment we have been waiting for. Now is your chance to pick up the shirt of your dreams. Don't mess it up! Link here: https://www.amazon.co.uk/Got-Data-MIS-Business-Analyst/dp/B09TFTNYJ7\"\n",
    "   \n",
    "    msg = f\"Subject: {subject}\\n\\n{body}\"\n",
    "    \n",
    "    server.sendmail(\n",
    "        'osvaldosilva.silva6@gmail.com',\n",
    "        msg\n",
    "     \n",
    "    )"
   ]
  },
  {
   "cell_type": "code",
   "execution_count": null,
   "metadata": {},
   "outputs": [],
   "source": []
  }
 ],
 "metadata": {
  "kernelspec": {
   "display_name": "Python 3",
   "language": "python",
   "name": "python3"
  },
  "language_info": {
   "codemirror_mode": {
    "name": "ipython",
    "version": 3
   },
   "file_extension": ".py",
   "mimetype": "text/x-python",
   "name": "python",
   "nbconvert_exporter": "python",
   "pygments_lexer": "ipython3",
   "version": "3.11.0"
  },
  "orig_nbformat": 4
 },
 "nbformat": 4,
 "nbformat_minor": 2
}
